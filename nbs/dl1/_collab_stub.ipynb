{
  "nbformat": 4,
  "nbformat_minor": 0,
  "metadata": {
    "colab": {
      "name": "_collab-stub.ipynb",
      "provenance": [],
      "collapsed_sections": [],
      "authorship_tag": "ABX9TyOQPKJfnFcRV8FJYE/hGdT2",
      "include_colab_link": true
    },
    "kernelspec": {
      "name": "python3",
      "display_name": "Python 3"
    }
  },
  "cells": [
    {
      "cell_type": "markdown",
      "metadata": {
        "id": "view-in-github",
        "colab_type": "text"
      },
      "source": [
        "<a href=\"https://colab.research.google.com/github/jellenberger/fastai-course-v3/blob/master/nbs/dl1/_collab_stub.ipynb\" target=\"_parent\"><img src=\"https://colab.research.google.com/assets/colab-badge.svg\" alt=\"Open In Colab\"/></a>"
      ]
    },
    {
      "cell_type": "markdown",
      "metadata": {
        "id": "1t6TTu7blEUf",
        "colab_type": "text"
      },
      "source": [
        "# Stub for Colab\n",
        "\n",
        "For Colab: adds Fastai setup and paths to Google Drive"
      ]
    },
    {
      "cell_type": "code",
      "metadata": {
        "id": "4ggj9FXQmjvC",
        "colab_type": "code",
        "colab": {}
      },
      "source": [
        "# load fastai\n",
        "# restart runtime after this\n",
        "!curl -s https://course.fast.ai/setup/colab | bash"
      ],
      "execution_count": 0,
      "outputs": []
    },
    {
      "cell_type": "code",
      "metadata": {
        "id": "kIKkMYlWmszi",
        "colab_type": "code",
        "colab": {}
      },
      "source": [
        "from pathlib import Path\n",
        "from google.colab import drive\n",
        "drive.mount('/content/gdrive', force_remount=True)\n",
        "home_path = Path('/content/gdrive/My\\ Drive')"
      ],
      "execution_count": 0,
      "outputs": []
    },
    {
      "cell_type": "code",
      "metadata": {
        "id": "LrLGmPMxjijy",
        "colab_type": "code",
        "colab": {}
      },
      "source": [
        "data_path = homepath / 'Colab\\ Notebooks/data'\n",
        "!ls {data_path}"
      ],
      "execution_count": 0,
      "outputs": []
    }
  ]
}